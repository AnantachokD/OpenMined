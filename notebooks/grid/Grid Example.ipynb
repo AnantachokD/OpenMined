{
 "cells": [
  {
   "cell_type": "code",
   "execution_count": 1,
   "metadata": {},
   "outputs": [
    {
     "name": "stderr",
     "output_type": "stream",
     "text": [
      "/Users/bendecoste/anaconda3/lib/python3.6/site-packages/IPython/html.py:14: ShimWarning: The `IPython.html` package has been deprecated since IPython 4.0. You should import from `notebook` instead. `IPython.html.widgets` has moved to `ipywidgets`.\n",
      "  \"`IPython.html.widgets` has moved to `ipywidgets`.\", ShimWarning)\n"
     ]
    }
   ],
   "source": [
    "%load_ext autoreload\n",
    "%autoreload 2\n",
    "\n",
    "import syft\n",
    "import syft.nn as nn\n",
    "import syft.grid.grid as grid\n",
    "import imp\n",
    "imp.reload(syft)\n",
    "imp.reload(syft.nn)\n",
    "imp.reload(syft.grid)\n",
    "\n",
    "import numpy as np\n",
    "from syft import FloatTensor\n",
    "from syft import IntTensor"
   ]
  },
  {
   "cell_type": "code",
   "execution_count": 4,
   "metadata": {},
   "outputs": [],
   "source": [
    "model = nn.Sequential([\n",
    "    nn.Linear(3,1)\n",
    "])\n",
    "\n",
    "g = grid.Grid()\n",
    "\n",
    "config1 = g.configuration(\n",
    "    model=model,\n",
    "    lr=0.01,\n",
    "    criterion='mseloss',\n",
    "    iters=200\n",
    ")\n",
    "\n",
    "config2 = g.configuration(\n",
    "    model=model,\n",
    "    lr=0.1,\n",
    "    criterion='cross_entropy_loss',\n",
    "    iters=500\n",
    ")\n",
    "\n",
    "config3 = g.configuration(\n",
    "    model=model,\n",
    "    lr=0.1,\n",
    "    criterion='mseloss',\n",
    "    iters=200\n",
    ")"
   ]
  },
  {
   "cell_type": "code",
   "execution_count": 7,
   "metadata": {},
   "outputs": [],
   "source": [
    "input = FloatTensor([[0,0,1],[0,1.0,1],[1,0,1],[1,1,1]], autograd=True)\n",
    "target = FloatTensor([[0],[0],[1],[1]], autograd=True)\n",
    "\n",
    "g.learn(\n",
    "  input = input,\n",
    "  target = target,\n",
    "  configurations = [config1, config2, config3],\n",
    "  name='MNIST'\n",
    ")"
   ]
  },
  {
   "cell_type": "code",
   "execution_count": 8,
   "metadata": {},
   "outputs": [
    {
     "name": "stdout",
     "output_type": "stream",
     "text": [
      "\u001b[40m\u001b[37m ALL EXPERIMENTS \u001b[0m\n",
      "Get the result of your experiment by calling \u001b[32mget_results\u001b[0m with the highlighted uuid\n",
      "\n",
      "    - MNIST (\u001b[32m2fa36572-ee86-4bef-9075-87bc52694c1d\u001b[0m)\n",
      "    - Finding like whales 2 (\u001b[32m0b7f7292-a2bb-4790-9dee-3b2e33f04b82\u001b[0m)\n",
      "    - Finding like whales (\u001b[32m990ce960-40bc-4534-85c3-d4f70579bb7d\u001b[0m)\n"
     ]
    }
   ],
   "source": [
    "g = grid.Grid()\n",
    "g.get_experiments()"
   ]
  },
  {
   "cell_type": "code",
   "execution_count": 9,
   "metadata": {},
   "outputs": [],
   "source": [
    "r = g.get_results('2fa36572-ee86-4bef-9075-87bc52694c1d')"
   ]
  },
  {
   "cell_type": "code",
   "execution_count": 10,
   "metadata": {},
   "outputs": [],
   "source": [
    "m1 = r.results[0]\n",
    "m2 = r.results[1]\n",
    "m3 = r.results[2]"
   ]
  },
  {
   "cell_type": "code",
   "execution_count": 11,
   "metadata": {},
   "outputs": [
    {
     "data": {
      "text/plain": [
       "[[ 0.3708287]\n",
       " [ 0.4668186]\n",
       " [ 1.144389 ]\n",
       " [ 1.240379 ]]\n",
       "[syft.FloatTensor:124008 grad:None size:4x1 c:[] p:[109716, 117161] init:mm]\n",
       "\n",
       "\t-----------creators-----------\n",
       "\t[syft.FloatTensor:109716 grad:None size:4x3 c:[124008] p:[] init:]\n",
       "\t[syft.FloatTensor:117161 grad:None size:3x1 c:[124008] p:[] init:]\n",
       "\t------------------------------\n",
       "\n"
      ]
     },
     "execution_count": 11,
     "metadata": {},
     "output_type": "execute_result"
    }
   ],
   "source": [
    "m1.forward(input)"
   ]
  },
  {
   "cell_type": "code",
   "execution_count": 15,
   "metadata": {},
   "outputs": [
    {
     "data": {
      "text/plain": [
       "[[ 0.2955911]\n",
       " [ 0.2075086]\n",
       " [-0.1233788]\n",
       " [-0.2114614]]\n",
       "[syft.FloatTensor:12028 grad:None size:4x1 c:[] p:[1157, 12025] init:mm]\n",
       "\n",
       "\t-----------creators-----------\n",
       "\t[syft.FloatTensor:1157 grad:None size:4x3 c:[12027, 12028] p:[] init:]\n",
       "\t[syft.FloatTensor:12025 grad:None size:3x1 c:[12028] p:[] init:]\n",
       "\t------------------------------\n",
       "\n"
      ]
     },
     "execution_count": 15,
     "metadata": {},
     "output_type": "execute_result"
    }
   ],
   "source": [
    "m2.forward(input)"
   ]
  },
  {
   "cell_type": "code",
   "execution_count": 16,
   "metadata": {},
   "outputs": [
    {
     "data": {
      "text/plain": [
       "[[-0.7046605]\n",
       " [-0.4219377]\n",
       " [ 0.8801706]\n",
       " [ 1.162893 ]]\n",
       "[syft.FloatTensor:12029 grad:None size:4x1 c:[] p:[1157, 12026] init:mm]\n",
       "\n",
       "\t-----------creators-----------\n",
       "\t[syft.FloatTensor:1157 grad:None size:4x3 c:[12027, 12028, 12029] p:[] init:]\n",
       "\t[syft.FloatTensor:12026 grad:None size:3x1 c:[12029] p:[] init:]\n",
       "\t------------------------------\n",
       "\n"
      ]
     },
     "execution_count": 16,
     "metadata": {},
     "output_type": "execute_result"
    }
   ],
   "source": [
    "m3.forward(input)"
   ]
  },
  {
   "cell_type": "code",
   "execution_count": null,
   "metadata": {
    "collapsed": true
   },
   "outputs": [],
   "source": []
  }
 ],
 "metadata": {
  "kernelspec": {
   "display_name": "Python 3",
   "language": "python",
   "name": "python3"
  },
  "language_info": {
   "codemirror_mode": {
    "name": "ipython",
    "version": 3
   },
   "file_extension": ".py",
   "mimetype": "text/x-python",
   "name": "python",
   "nbconvert_exporter": "python",
   "pygments_lexer": "ipython3",
   "version": "3.6.3"
  }
 },
 "nbformat": 4,
 "nbformat_minor": 2
}
